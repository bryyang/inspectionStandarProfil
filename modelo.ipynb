{
 "cells": [
  {
   "cell_type": "code",
   "execution_count": 2,
   "id": "08f555b6-fd4a-4f7c-b9f8-0b3ce039eca0",
   "metadata": {},
   "outputs": [
    {
     "name": "stdout",
     "output_type": "stream",
     "text": [
      "2.19.0\n"
     ]
    }
   ],
   "source": [
    "import tensorflow as tf\n",
    "print(tf.__version__)\n"
   ]
  },
  {
   "cell_type": "code",
   "execution_count": 9,
   "id": "1c45a62d-3178-4b0f-b38b-91788ef76d0d",
   "metadata": {},
   "outputs": [
    {
     "name": "stdout",
     "output_type": "stream",
     "text": [
      "piezas_buenas: 245 imágenes\n",
      "piezas_malas: 90 imágenes\n"
     ]
    }
   ],
   "source": [
    "import os\n",
    "\n",
    "dataset_path = \"dataset\"\n",
    "\n",
    "for categoria in [\"piezas_buenas\", \"piezas_malas\"]:\n",
    "    ruta = os.path.join(dataset_path, categoria)\n",
    "    archivos = os.listdir(ruta)\n",
    "    print(f\"{categoria}: {len(archivos)} imágenes\")\n"
   ]
  },
  {
   "cell_type": "code",
   "execution_count": 3,
   "id": "d8521518-f3e7-4b29-9999-4ecad9cd8c85",
   "metadata": {},
   "outputs": [
    {
     "name": "stdout",
     "output_type": "stream",
     "text": [
      "✅ Imágenes preprocesadas correctamente\n",
      "🔢 Tamaño de X: (335, 128, 128, 3)\n",
      "🔢 Tamaño de y: (335,)\n"
     ]
    }
   ],
   "source": [
    "import os\n",
    "import cv2\n",
    "import numpy as np\n",
    "\n",
    "# Ruta a la carpeta dataset\n",
    "DATASET_PATH = \"dataset\"\n",
    "IMG_SIZE = 128\n",
    "\n",
    "# Etiquetas: piezas buenas = 0, piezas malas = 1\n",
    "CATEGORIES = [\"piezas_buenas\", \"piezas_malas\"]\n",
    "\n",
    "data = []\n",
    "\n",
    "# Recorremos ambas categorías\n",
    "for label, category in enumerate(CATEGORIES):\n",
    "    folder_path = os.path.join(DATASET_PATH, category)\n",
    "    for filename in os.listdir(folder_path):\n",
    "        img_path = os.path.join(folder_path, filename)\n",
    "        try:\n",
    "            # Leer la imagen en escala de grises(hemos cambiado a color porque tenemos fallas por quemaduras)\n",
    "            img = cv2.imread(img_path, cv2.IMREAD_COLOR)\n",
    "             # 🎨 Convertir de BGR a RGB (OpenCV usa BGR por defecto)\n",
    "            img = cv2.cvtColor(img, cv2.COLOR_BGR2RGB)\n",
    "            # Redimensionar a 128x128\n",
    "            img = cv2.resize(img, (IMG_SIZE, IMG_SIZE))\n",
    "            # Normalizar valores (de 0-255 a 0-1)\n",
    "            img = img / 255.0\n",
    "            # Añadir a la lista de datos junto con su etiqueta (0 o 1)\n",
    "            data.append([img, label])\n",
    "        except Exception as e:\n",
    "            print(f\"⚠️ Error al procesar {img_path}: {e}\")\n",
    "\n",
    "# Mezclar los datos aleatoriamente\n",
    "import random\n",
    "random.shuffle(data)\n",
    "\n",
    "# Separar datos y etiquetas\n",
    "X = []\n",
    "y = []\n",
    "\n",
    "for features, label in data:\n",
    "    X.append(features)\n",
    "    y.append(label)\n",
    "\n",
    "# Convertir a arrays de numpy\n",
    "X = np.array(X).reshape(-1, IMG_SIZE, IMG_SIZE, 3)\n",
    "y = np.array(y)\n",
    "\n",
    "print(\"✅ Imágenes preprocesadas correctamente\")\n",
    "print(\"🔢 Tamaño de X:\", X.shape)\n",
    "print(\"🔢 Tamaño de y:\", y.shape)\n"
   ]
  },
  {
   "cell_type": "code",
   "execution_count": 5,
   "id": "b7af8e98-726b-4bc1-bb55-243c0caa717a",
   "metadata": {},
   "outputs": [
    {
     "name": "stdout",
     "output_type": "stream",
     "text": [
      "Collecting scikit-learn\n",
      "  Downloading scikit_learn-1.6.1-cp310-cp310-win_amd64.whl (11.1 MB)\n",
      "Requirement already satisfied: numpy>=1.19.5 in c:\\users\\bryan\\appdata\\local\\programs\\python\\python310\\lib\\site-packages (from scikit-learn) (2.1.3)\n",
      "Collecting threadpoolctl>=3.1.0\n",
      "  Downloading threadpoolctl-3.6.0-py3-none-any.whl (18 kB)\n",
      "Collecting scipy>=1.6.0\n",
      "  Downloading scipy-1.15.2-cp310-cp310-win_amd64.whl (41.2 MB)\n",
      "Collecting joblib>=1.2.0\n",
      "  Downloading joblib-1.4.2-py3-none-any.whl (301 kB)\n",
      "Installing collected packages: threadpoolctl, scipy, joblib, scikit-learn\n",
      "Successfully installed joblib-1.4.2 scikit-learn-1.6.1 scipy-1.15.2 threadpoolctl-3.6.0\n"
     ]
    },
    {
     "name": "stderr",
     "output_type": "stream",
     "text": [
      "WARNING: You are using pip version 21.2.3; however, version 25.0.1 is available.\n",
      "You should consider upgrading via the 'C:\\Users\\bryan\\AppData\\Local\\Programs\\Python\\Python310\\python.exe -m pip install --upgrade pip' command.\n"
     ]
    }
   ],
   "source": [
    "!pip install scikit-learn\n"
   ]
  },
  {
   "cell_type": "code",
   "execution_count": 4,
   "id": "197f0ef7-fe89-43e0-904e-0f79b968f896",
   "metadata": {},
   "outputs": [
    {
     "ename": "NameError",
     "evalue": "name 'train_test_split' is not defined",
     "output_type": "error",
     "traceback": [
      "\u001b[1;31m---------------------------------------------------------------------------\u001b[0m",
      "\u001b[1;31mNameError\u001b[0m                                 Traceback (most recent call last)",
      "Cell \u001b[1;32mIn[4], line 7\u001b[0m\n\u001b[0;32m      4\u001b[0m \u001b[38;5;28;01mfrom\u001b[39;00m\u001b[38;5;250m \u001b[39m\u001b[38;5;21;01mtensorflow\u001b[39;00m\u001b[38;5;21;01m.\u001b[39;00m\u001b[38;5;21;01mkeras\u001b[39;00m\u001b[38;5;21;01m.\u001b[39;00m\u001b[38;5;21;01moptimizers\u001b[39;00m\u001b[38;5;250m \u001b[39m\u001b[38;5;28;01mimport\u001b[39;00m Adam\n\u001b[0;32m      6\u001b[0m \u001b[38;5;66;03m# 1️⃣ Dividir los datos\u001b[39;00m\n\u001b[1;32m----> 7\u001b[0m X_train, X_val, y_train, y_val \u001b[38;5;241m=\u001b[39m \u001b[43mtrain_test_split\u001b[49m(X, y, test_size\u001b[38;5;241m=\u001b[39m\u001b[38;5;241m0.2\u001b[39m, random_state\u001b[38;5;241m=\u001b[39m\u001b[38;5;241m42\u001b[39m)\n\u001b[0;32m      9\u001b[0m \u001b[38;5;28mprint\u001b[39m(\u001b[38;5;124m\"\u001b[39m\u001b[38;5;124m✅ Datos divididos:\u001b[39m\u001b[38;5;124m\"\u001b[39m)\n\u001b[0;32m     10\u001b[0m \u001b[38;5;28mprint\u001b[39m(\u001b[38;5;124m\"\u001b[39m\u001b[38;5;124m📊 X_train:\u001b[39m\u001b[38;5;124m\"\u001b[39m, X_train\u001b[38;5;241m.\u001b[39mshape)\n",
      "\u001b[1;31mNameError\u001b[0m: name 'train_test_split' is not defined"
     ]
    }
   ],
   "source": [
    "from tensorflow.keras.models import Sequential\n",
    "from tensorflow.keras.layers import Conv2D, MaxPooling2D, BatchNormalization\n",
    "from tensorflow.keras.layers import Flatten, Dense, Dropout\n",
    "from tensorflow.keras.optimizers import Adam\n",
    "\n",
    "# 1️⃣ Dividir los datos\n",
    "X_train, X_val, y_train, y_val = train_test_split(X, y, test_size=0.2, random_state=42)\n",
    "\n",
    "print(\"✅ Datos divididos:\")\n",
    "print(\"📊 X_train:\", X_train.shape)\n",
    "print(\"📊 X_val:\", X_val.shape)\n",
    "\n",
    "# 2️⃣ Crear el modelo CNN\n",
    "\n",
    "\n",
    "model = Sequential([\n",
    "    Conv2D(32, (3, 3), activation='relu', padding='same', input_shape=(X.shape[1], X.shape[2], 3)),\n",
    "    BatchNormalization(),\n",
    "    MaxPooling2D(2, 2),\n",
    "\n",
    "    Conv2D(64, (3, 3), activation='relu', padding='same'),\n",
    "    BatchNormalization(),\n",
    "    MaxPooling2D(2, 2),\n",
    "\n",
    "    Conv2D(128, (3, 3), activation='relu', padding='same'),\n",
    "    BatchNormalization(),\n",
    "    MaxPooling2D(2, 2),\n",
    "\n",
    "    Flatten(),\n",
    "    Dropout(0.4),  # Subimos un poco para evitar sobreajuste\n",
    "    Dense(128, activation='relu'),\n",
    "    Dropout(0.3),\n",
    "    Dense(1, activation='sigmoid')  # Clasificación binaria\n",
    "])\n",
    "\n",
    "\n",
    "# 3️⃣ Compilar\n",
    "model.compile(optimizer='adam',\n",
    "              loss='binary_crossentropy',\n",
    "              metrics=['accuracy'])\n",
    "\n",
    "# 4️⃣ Entrenar\n",
    "\n",
    "from tensorflow.keras.preprocessing.image import ImageDataGenerator\n",
    "\n",
    "datagen = ImageDataGenerator(\n",
    "    rotation_range=10,\n",
    "    width_shift_range=0.05,\n",
    "    height_shift_range=0.05,\n",
    "    zoom_range=0.1,\n",
    "    horizontal_flip=True\n",
    ")\n",
    "\n",
    "datagen.fit(X_train)\n",
    "history = model.fit(\n",
    "    datagen.flow(X_train, y_train, batch_size=16),\n",
    "    epochs=30,\n",
    "    validation_data=(X_val, y_val)\n",
    ")\n",
    "\n",
    "# 5️⃣ Graficar resultados\n",
    "#perdida\n",
    "plt.plot(history.history['loss'], label='Pérdida Entrenamiento')\n",
    "plt.plot(history.history['val_loss'], label='Pérdida Validación')\n",
    "plt.title(\"Pérdida durante entrenamiento\")\n",
    "plt.xlabel(\"Épocas\")\n",
    "plt.ylabel(\"Pérdida\")\n",
    "plt.legend()\n",
    "plt.show()\n",
    "\n",
    "#precision\n",
    "#Muestra qué porcentaje de imágenes clasificó correctamente.\n",
    "#Si la precisión se mantiene alta en validación → el modelo generaliza bien.\n",
    "\n",
    "plt.plot(history.history['accuracy'], label='Precisión Entrenamiento')\n",
    "plt.plot(history.history['val_accuracy'], label='Precisión Validación')\n",
    "plt.title(\"Precisión durante entrenamiento\")\n",
    "plt.xlabel(\"Épocas\")\n",
    "plt.ylabel(\"Precisión\")\n",
    "plt.legend()\n",
    "plt.show()\n"
   ]
  },
  {
   "cell_type": "code",
   "execution_count": 40,
   "id": "58550959-0a57-4537-a450-64fcbd4fa563",
   "metadata": {},
   "outputs": [],
   "source": [
    "model.save(\"mi_modelo.keras\")\n"
   ]
  },
  {
   "cell_type": "code",
   "execution_count": null,
   "id": "4200a21f-3b08-4a8b-9ca7-c02ebfe8e5ff",
   "metadata": {},
   "outputs": [],
   "source": []
  }
 ],
 "metadata": {
  "kernelspec": {
   "display_name": "Python 3 (ipykernel)",
   "language": "python",
   "name": "python3"
  },
  "language_info": {
   "codemirror_mode": {
    "name": "ipython",
    "version": 3
   },
   "file_extension": ".py",
   "mimetype": "text/x-python",
   "name": "python",
   "nbconvert_exporter": "python",
   "pygments_lexer": "ipython3",
   "version": "3.10.0"
  }
 },
 "nbformat": 4,
 "nbformat_minor": 5
}
